{
 "cells": [
  {
   "cell_type": "code",
   "execution_count": 7,
   "id": "426e5593",
   "metadata": {},
   "outputs": [],
   "source": [
    "from nltk.book import text3"
   ]
  },
  {
   "cell_type": "code",
   "execution_count": 8,
   "id": "a4a0d686",
   "metadata": {},
   "outputs": [
    {
     "data": {
      "text/plain": [
       "44764"
      ]
     },
     "execution_count": 8,
     "metadata": {},
     "output_type": "execute_result"
    }
   ],
   "source": [
    "len(text3)"
   ]
  },
  {
   "cell_type": "code",
   "execution_count": 10,
   "id": "477b19ba",
   "metadata": {},
   "outputs": [
    {
     "data": {
      "text/plain": [
       "2789"
      ]
     },
     "execution_count": 10,
     "metadata": {},
     "output_type": "execute_result"
    }
   ],
   "source": [
    "len(set(text3))"
   ]
  },
  {
   "cell_type": "code",
   "execution_count": 11,
   "id": "215b68d6",
   "metadata": {},
   "outputs": [
    {
     "data": {
      "text/plain": [
       "16.050197203298673"
      ]
     },
     "execution_count": 11,
     "metadata": {},
     "output_type": "execute_result"
    }
   ],
   "source": [
    "from __future__ import division\n",
    "len(text3)/len(set(text3))"
   ]
  },
  {
   "cell_type": "code",
   "execution_count": 14,
   "id": "2367f3c8",
   "metadata": {},
   "outputs": [
    {
     "data": {
      "text/plain": [
       "5"
      ]
     },
     "execution_count": 14,
     "metadata": {},
     "output_type": "execute_result"
    }
   ],
   "source": [
    "text3.count(\"smote\")"
   ]
  },
  {
   "cell_type": "code",
   "execution_count": 16,
   "id": "4e023482",
   "metadata": {},
   "outputs": [
    {
     "data": {
      "text/plain": [
       "0.7640067911714771"
      ]
     },
     "execution_count": 16,
     "metadata": {},
     "output_type": "execute_result"
    }
   ],
   "source": [
    "100 * text3.count('a') / len(text3)"
   ]
  },
  {
   "cell_type": "code",
   "execution_count": 18,
   "id": "1b19eab6",
   "metadata": {},
   "outputs": [
    {
     "data": {
      "text/plain": [
       "['Call', 'me', 'Ishmael', '.']"
      ]
     },
     "metadata": {},
     "output_type": "display_data"
    },
    {
     "data": {
      "text/plain": [
       "4"
      ]
     },
     "execution_count": 18,
     "metadata": {},
     "output_type": "execute_result"
    }
   ],
   "source": [
    "sent1 = ['Call', 'me', 'Ishmael', '.']\n",
    "display(sent1)\n",
    "len(sent1)"
   ]
  },
  {
   "cell_type": "code",
   "execution_count": 20,
   "id": "bf2909bf",
   "metadata": {},
   "outputs": [
    {
     "data": {
      "text/plain": [
       "['Monty', 'Python', 'and', 'the', 'Holy', 'Grail']"
      ]
     },
     "execution_count": 20,
     "metadata": {},
     "output_type": "execute_result"
    }
   ],
   "source": [
    "['Monty', 'Python'] + ['and', 'the', 'Holy', 'Grail']"
   ]
  },
  {
   "cell_type": "code",
   "execution_count": 21,
   "id": "a461abf7",
   "metadata": {},
   "outputs": [
    {
     "data": {
      "text/plain": [
       "['Call', 'me', 'Ishmael', '.', 'Some']"
      ]
     },
     "execution_count": 21,
     "metadata": {},
     "output_type": "execute_result"
    }
   ],
   "source": [
    "sent1.append(\"Some\")\n",
    "sent1"
   ]
  },
  {
   "cell_type": "code",
   "execution_count": 26,
   "id": "de697f86",
   "metadata": {},
   "outputs": [
    {
     "data": {
      "text/plain": [
       "['In', 'the', 'beginning', 'God', 'created']"
      ]
     },
     "metadata": {},
     "output_type": "display_data"
    },
    {
     "data": {
      "text/plain": [
       "'beginning'"
      ]
     },
     "execution_count": 26,
     "metadata": {},
     "output_type": "execute_result"
    }
   ],
   "source": [
    "display(text3[:5])\n",
    "text3[2]"
   ]
  },
  {
   "cell_type": "code",
   "execution_count": 29,
   "id": "085e8cb9",
   "metadata": {},
   "outputs": [
    {
     "data": {
      "text/plain": [
       "3"
      ]
     },
     "execution_count": 29,
     "metadata": {},
     "output_type": "execute_result"
    }
   ],
   "source": [
    "text3.index('God')"
   ]
  },
  {
   "cell_type": "code",
   "execution_count": 33,
   "id": "387934f2",
   "metadata": {},
   "outputs": [
    {
     "data": {
      "text/plain": [
       "['Grail', 'Holy', 'Monty', 'Python', 'and', 'the']"
      ]
     },
     "metadata": {},
     "output_type": "display_data"
    },
    {
     "data": {
      "text/plain": [
       "['the', 'and', 'Python', 'Monty', 'Holy', 'Grail']"
      ]
     },
     "metadata": {},
     "output_type": "display_data"
    }
   ],
   "source": [
    "my_sent = ['Monty', 'Python', 'and', 'the', 'Holy', 'Grail']\n",
    "display(sorted(my_sent))\n",
    "display(sorted(my_sent,reverse=True))"
   ]
  },
  {
   "cell_type": "code",
   "execution_count": 34,
   "id": "a699ffa5",
   "metadata": {},
   "outputs": [
    {
     "data": {
      "text/plain": [
       "71"
      ]
     },
     "execution_count": 34,
     "metadata": {},
     "output_type": "execute_result"
    }
   ],
   "source": [
    "len(set(text1[:100]))"
   ]
  }
 ],
 "metadata": {
  "kernelspec": {
   "display_name": "tf",
   "language": "python",
   "name": "python3"
  },
  "language_info": {
   "codemirror_mode": {
    "name": "ipython",
    "version": 3
   },
   "file_extension": ".py",
   "mimetype": "text/x-python",
   "name": "python",
   "nbconvert_exporter": "python",
   "pygments_lexer": "ipython3",
   "version": "3.10.16"
  }
 },
 "nbformat": 4,
 "nbformat_minor": 5
}
